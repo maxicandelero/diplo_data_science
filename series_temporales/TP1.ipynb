{
 "cells": [
  {
   "cell_type": "markdown",
   "metadata": {},
   "source": [
    "# Lab 1 - Series temporales\n"
   ]
  },
  {
   "cell_type": "code",
   "execution_count": null,
   "metadata": {},
   "outputs": [],
   "source": [
    "# Packages\n",
    "import numpy as np\n",
    "from scipy import stats\n",
    "import pandas as pd\n",
    "import matplotlib.pyplot as plt\n",
    "import seaborn as sns\n",
    "import statsmodels.api as sm"
   ]
  },
  {
   "cell_type": "code",
   "execution_count": 90,
   "metadata": {},
   "outputs": [],
   "source": [
    "# Plot settings\n",
    "sns.set_context('notebook') \n",
    "sns.set_style('ticks')\n",
    "red='#D62728'\n",
    "blue='#1F77B4'\n",
    "%matplotlib inline"
   ]
  },
  {
   "cell_type": "code",
   "execution_count": 91,
   "metadata": {},
   "outputs": [],
   "source": [
    "plt.rcParams['figure.figsize'] = [15, 10]"
   ]
  },
  {
   "cell_type": "markdown",
   "metadata": {},
   "source": [
    "## 1 - Levantar los datos \n",
    "Desde el archivo dataset/Telefonia_movil.csv. Los mismos fueron extraídos de http://datosabiertos.enacom.gob.ar/visualizations/29890/trafico-de-suscriptores-de-telefonia-movil-miles-de-minutos/ "
   ]
  },
  {
   "cell_type": "code",
   "execution_count": 92,
   "metadata": {},
   "outputs": [],
   "source": [
    "data=pd.read_csv('datasets/Telefonia_movil.csv', parse_dates=True, dayfirst=True)"
   ]
  },
  {
   "cell_type": "markdown",
   "metadata": {},
   "source": [
    "## 2 - Explorar los datos, visualizarlos"
   ]
  },
  {
   "cell_type": "code",
   "execution_count": 93,
   "metadata": {},
   "outputs": [
    {
     "data": {
      "text/html": [
       "<div>\n",
       "<style scoped>\n",
       "    .dataframe tbody tr th:only-of-type {\n",
       "        vertical-align: middle;\n",
       "    }\n",
       "\n",
       "    .dataframe tbody tr th {\n",
       "        vertical-align: top;\n",
       "    }\n",
       "\n",
       "    .dataframe thead th {\n",
       "        text-align: right;\n",
       "    }\n",
       "</style>\n",
       "<table border=\"1\" class=\"dataframe\">\n",
       "  <thead>\n",
       "    <tr style=\"text-align: right;\">\n",
       "      <th></th>\n",
       "      <th>Año</th>\n",
       "      <th>Trimestre</th>\n",
       "      <th>Minutos prepago salientes (miles)</th>\n",
       "      <th>Total de minutos salientes (miles)</th>\n",
       "    </tr>\n",
       "  </thead>\n",
       "  <tbody>\n",
       "    <tr>\n",
       "      <th>count</th>\n",
       "      <td>22.000000</td>\n",
       "      <td>22.000000</td>\n",
       "      <td>2.200000e+01</td>\n",
       "      <td>2.200000e+01</td>\n",
       "    </tr>\n",
       "    <tr>\n",
       "      <th>mean</th>\n",
       "      <td>2015.272727</td>\n",
       "      <td>2.409091</td>\n",
       "      <td>6.604273e+06</td>\n",
       "      <td>1.870118e+07</td>\n",
       "    </tr>\n",
       "    <tr>\n",
       "      <th>std</th>\n",
       "      <td>1.638287</td>\n",
       "      <td>1.140555</td>\n",
       "      <td>5.251805e+05</td>\n",
       "      <td>1.990543e+06</td>\n",
       "    </tr>\n",
       "    <tr>\n",
       "      <th>min</th>\n",
       "      <td>2013.000000</td>\n",
       "      <td>1.000000</td>\n",
       "      <td>5.380710e+06</td>\n",
       "      <td>1.536806e+07</td>\n",
       "    </tr>\n",
       "    <tr>\n",
       "      <th>25%</th>\n",
       "      <td>2014.000000</td>\n",
       "      <td>1.250000</td>\n",
       "      <td>6.291007e+06</td>\n",
       "      <td>1.735731e+07</td>\n",
       "    </tr>\n",
       "    <tr>\n",
       "      <th>50%</th>\n",
       "      <td>2015.000000</td>\n",
       "      <td>2.000000</td>\n",
       "      <td>6.580968e+06</td>\n",
       "      <td>1.883452e+07</td>\n",
       "    </tr>\n",
       "    <tr>\n",
       "      <th>75%</th>\n",
       "      <td>2016.750000</td>\n",
       "      <td>3.000000</td>\n",
       "      <td>7.100940e+06</td>\n",
       "      <td>1.974379e+07</td>\n",
       "    </tr>\n",
       "    <tr>\n",
       "      <th>max</th>\n",
       "      <td>2018.000000</td>\n",
       "      <td>4.000000</td>\n",
       "      <td>7.335154e+06</td>\n",
       "      <td>2.289966e+07</td>\n",
       "    </tr>\n",
       "  </tbody>\n",
       "</table>\n",
       "</div>"
      ],
      "text/plain": [
       "               Año  Trimestre  Minutos prepago salientes (miles)  \\\n",
       "count    22.000000  22.000000                       2.200000e+01   \n",
       "mean   2015.272727   2.409091                       6.604273e+06   \n",
       "std       1.638287   1.140555                       5.251805e+05   \n",
       "min    2013.000000   1.000000                       5.380710e+06   \n",
       "25%    2014.000000   1.250000                       6.291007e+06   \n",
       "50%    2015.000000   2.000000                       6.580968e+06   \n",
       "75%    2016.750000   3.000000                       7.100940e+06   \n",
       "max    2018.000000   4.000000                       7.335154e+06   \n",
       "\n",
       "       Total de minutos salientes (miles)  \n",
       "count                        2.200000e+01  \n",
       "mean                         1.870118e+07  \n",
       "std                          1.990543e+06  \n",
       "min                          1.536806e+07  \n",
       "25%                          1.735731e+07  \n",
       "50%                          1.883452e+07  \n",
       "75%                          1.974379e+07  \n",
       "max                          2.289966e+07  "
      ]
     },
     "execution_count": 93,
     "metadata": {},
     "output_type": "execute_result"
    }
   ],
   "source": [
    "data.describe()"
   ]
  },
  {
   "cell_type": "code",
   "execution_count": 94,
   "metadata": {},
   "outputs": [
    {
     "data": {
      "text/plain": [
       "Año                                    int64\n",
       "Trimestre                              int64\n",
       "Minutos pospago salientes (miles)     object\n",
       "Minutos prepago salientes (miles)      int64\n",
       "Total de minutos salientes (miles)     int64\n",
       "Periodo                               object\n",
       "dtype: object"
      ]
     },
     "execution_count": 94,
     "metadata": {},
     "output_type": "execute_result"
    }
   ],
   "source": [
    "data.dtypes"
   ]
  },
  {
   "cell_type": "code",
   "execution_count": 95,
   "metadata": {},
   "outputs": [
    {
     "data": {
      "text/html": [
       "<div>\n",
       "<style scoped>\n",
       "    .dataframe tbody tr th:only-of-type {\n",
       "        vertical-align: middle;\n",
       "    }\n",
       "\n",
       "    .dataframe tbody tr th {\n",
       "        vertical-align: top;\n",
       "    }\n",
       "\n",
       "    .dataframe thead th {\n",
       "        text-align: right;\n",
       "    }\n",
       "</style>\n",
       "<table border=\"1\" class=\"dataframe\">\n",
       "  <thead>\n",
       "    <tr style=\"text-align: right;\">\n",
       "      <th></th>\n",
       "      <th>Año</th>\n",
       "      <th>Trimestre</th>\n",
       "      <th>Minutos pospago salientes (miles)</th>\n",
       "      <th>Minutos prepago salientes (miles)</th>\n",
       "      <th>Total de minutos salientes (miles)</th>\n",
       "      <th>Periodo</th>\n",
       "    </tr>\n",
       "  </thead>\n",
       "  <tbody>\n",
       "    <tr>\n",
       "      <th>0</th>\n",
       "      <td>2013</td>\n",
       "      <td>1</td>\n",
       "      <td>8.785.943</td>\n",
       "      <td>6582117</td>\n",
       "      <td>15368060</td>\n",
       "      <td>Ene-Mar 2013</td>\n",
       "    </tr>\n",
       "    <tr>\n",
       "      <th>1</th>\n",
       "      <td>2013</td>\n",
       "      <td>2</td>\n",
       "      <td>9.512.689</td>\n",
       "      <td>7108640</td>\n",
       "      <td>16621329</td>\n",
       "      <td>Abr-Jun 2013</td>\n",
       "    </tr>\n",
       "    <tr>\n",
       "      <th>2</th>\n",
       "      <td>2013</td>\n",
       "      <td>3</td>\n",
       "      <td>10.315.484</td>\n",
       "      <td>7335154</td>\n",
       "      <td>17650638</td>\n",
       "      <td>Jul-Sept 2013</td>\n",
       "    </tr>\n",
       "    <tr>\n",
       "      <th>3</th>\n",
       "      <td>2013</td>\n",
       "      <td>4</td>\n",
       "      <td>9.809.515</td>\n",
       "      <td>6250549</td>\n",
       "      <td>16060064</td>\n",
       "      <td>Oct-Dic 2013</td>\n",
       "    </tr>\n",
       "    <tr>\n",
       "      <th>4</th>\n",
       "      <td>2014</td>\n",
       "      <td>1</td>\n",
       "      <td>10.128.751</td>\n",
       "      <td>5799223</td>\n",
       "      <td>15927974</td>\n",
       "      <td>Ene-Mar 2013</td>\n",
       "    </tr>\n",
       "  </tbody>\n",
       "</table>\n",
       "</div>"
      ],
      "text/plain": [
       "    Año  Trimestre Minutos pospago salientes (miles)  \\\n",
       "0  2013          1                         8.785.943   \n",
       "1  2013          2                         9.512.689   \n",
       "2  2013          3                        10.315.484   \n",
       "3  2013          4                         9.809.515   \n",
       "4  2014          1                        10.128.751   \n",
       "\n",
       "   Minutos prepago salientes (miles)  Total de minutos salientes (miles)  \\\n",
       "0                            6582117                            15368060   \n",
       "1                            7108640                            16621329   \n",
       "2                            7335154                            17650638   \n",
       "3                            6250549                            16060064   \n",
       "4                            5799223                            15927974   \n",
       "\n",
       "         Periodo  \n",
       "0   Ene-Mar 2013  \n",
       "1   Abr-Jun 2013  \n",
       "2  Jul-Sept 2013  \n",
       "3   Oct-Dic 2013  \n",
       "4   Ene-Mar 2013  "
      ]
     },
     "execution_count": 95,
     "metadata": {},
     "output_type": "execute_result"
    }
   ],
   "source": [
    "data.head()"
   ]
  },
  {
   "cell_type": "code",
   "execution_count": 96,
   "metadata": {},
   "outputs": [],
   "source": [
    "data = data.rename(columns={\n",
    "    'Año' : 'Year',\n",
    "    'Minutos pospago salientes (miles)': 'MinutosPospagoSalientes', \n",
    "    'Minutos prepago salientes (miles)': 'MinutosPrepagoSalientes', \n",
    "    'Total de minutos salientes (miles)': 'TotalMinutosSalientes'})"
   ]
  },
  {
   "cell_type": "code",
   "execution_count": 97,
   "metadata": {},
   "outputs": [
    {
     "data": {
      "text/html": [
       "<div>\n",
       "<style scoped>\n",
       "    .dataframe tbody tr th:only-of-type {\n",
       "        vertical-align: middle;\n",
       "    }\n",
       "\n",
       "    .dataframe tbody tr th {\n",
       "        vertical-align: top;\n",
       "    }\n",
       "\n",
       "    .dataframe thead th {\n",
       "        text-align: right;\n",
       "    }\n",
       "</style>\n",
       "<table border=\"1\" class=\"dataframe\">\n",
       "  <thead>\n",
       "    <tr style=\"text-align: right;\">\n",
       "      <th></th>\n",
       "      <th>Year</th>\n",
       "      <th>Trimestre</th>\n",
       "      <th>MinutosPospagoSalientes</th>\n",
       "      <th>MinutosPrepagoSalientes</th>\n",
       "      <th>TotalMinutosSalientes</th>\n",
       "      <th>Periodo</th>\n",
       "    </tr>\n",
       "  </thead>\n",
       "  <tbody>\n",
       "    <tr>\n",
       "      <th>0</th>\n",
       "      <td>2013</td>\n",
       "      <td>1</td>\n",
       "      <td>8.785.943</td>\n",
       "      <td>6582117</td>\n",
       "      <td>15368060</td>\n",
       "      <td>Ene-Mar 2013</td>\n",
       "    </tr>\n",
       "    <tr>\n",
       "      <th>1</th>\n",
       "      <td>2013</td>\n",
       "      <td>2</td>\n",
       "      <td>9.512.689</td>\n",
       "      <td>7108640</td>\n",
       "      <td>16621329</td>\n",
       "      <td>Abr-Jun 2013</td>\n",
       "    </tr>\n",
       "    <tr>\n",
       "      <th>2</th>\n",
       "      <td>2013</td>\n",
       "      <td>3</td>\n",
       "      <td>10.315.484</td>\n",
       "      <td>7335154</td>\n",
       "      <td>17650638</td>\n",
       "      <td>Jul-Sept 2013</td>\n",
       "    </tr>\n",
       "    <tr>\n",
       "      <th>3</th>\n",
       "      <td>2013</td>\n",
       "      <td>4</td>\n",
       "      <td>9.809.515</td>\n",
       "      <td>6250549</td>\n",
       "      <td>16060064</td>\n",
       "      <td>Oct-Dic 2013</td>\n",
       "    </tr>\n",
       "    <tr>\n",
       "      <th>4</th>\n",
       "      <td>2014</td>\n",
       "      <td>1</td>\n",
       "      <td>10.128.751</td>\n",
       "      <td>5799223</td>\n",
       "      <td>15927974</td>\n",
       "      <td>Ene-Mar 2013</td>\n",
       "    </tr>\n",
       "  </tbody>\n",
       "</table>\n",
       "</div>"
      ],
      "text/plain": [
       "   Year  Trimestre MinutosPospagoSalientes  MinutosPrepagoSalientes  \\\n",
       "0  2013          1               8.785.943                  6582117   \n",
       "1  2013          2               9.512.689                  7108640   \n",
       "2  2013          3              10.315.484                  7335154   \n",
       "3  2013          4               9.809.515                  6250549   \n",
       "4  2014          1              10.128.751                  5799223   \n",
       "\n",
       "   TotalMinutosSalientes        Periodo  \n",
       "0               15368060   Ene-Mar 2013  \n",
       "1               16621329   Abr-Jun 2013  \n",
       "2               17650638  Jul-Sept 2013  \n",
       "3               16060064   Oct-Dic 2013  \n",
       "4               15927974   Ene-Mar 2013  "
      ]
     },
     "execution_count": 97,
     "metadata": {},
     "output_type": "execute_result"
    }
   ],
   "source": [
    "data.head()"
   ]
  },
  {
   "cell_type": "code",
   "execution_count": 98,
   "metadata": {},
   "outputs": [],
   "source": [
    "def set_Fecha (row):\n",
    "   if row['Trimestre'] == 1 :\n",
    "      return str(row['Year']) + '-03-01'\n",
    "   if row['Trimestre'] == 2 :\n",
    "      return str(row['Year']) + '-06-01'\n",
    "   if row['Trimestre'] == 3 :\n",
    "      return str(row['Year']) + '-09-01'\n",
    "   if row['Trimestre'] == 4 :\n",
    "      return str(row['Year']) + '-12-01'\n",
    "   return Nan"
   ]
  },
  {
   "cell_type": "code",
   "execution_count": 99,
   "metadata": {},
   "outputs": [
    {
     "data": {
      "text/html": [
       "<div>\n",
       "<style scoped>\n",
       "    .dataframe tbody tr th:only-of-type {\n",
       "        vertical-align: middle;\n",
       "    }\n",
       "\n",
       "    .dataframe tbody tr th {\n",
       "        vertical-align: top;\n",
       "    }\n",
       "\n",
       "    .dataframe thead th {\n",
       "        text-align: right;\n",
       "    }\n",
       "</style>\n",
       "<table border=\"1\" class=\"dataframe\">\n",
       "  <thead>\n",
       "    <tr style=\"text-align: right;\">\n",
       "      <th></th>\n",
       "      <th>Year</th>\n",
       "      <th>Trimestre</th>\n",
       "      <th>MinutosPospagoSalientes</th>\n",
       "      <th>MinutosPrepagoSalientes</th>\n",
       "      <th>TotalMinutosSalientes</th>\n",
       "      <th>Periodo</th>\n",
       "    </tr>\n",
       "    <tr>\n",
       "      <th>Fecha</th>\n",
       "      <th></th>\n",
       "      <th></th>\n",
       "      <th></th>\n",
       "      <th></th>\n",
       "      <th></th>\n",
       "      <th></th>\n",
       "    </tr>\n",
       "  </thead>\n",
       "  <tbody>\n",
       "    <tr>\n",
       "      <th>2017Q2</th>\n",
       "      <td>2017</td>\n",
       "      <td>2</td>\n",
       "      <td>15.315.167</td>\n",
       "      <td>6293563</td>\n",
       "      <td>21608730</td>\n",
       "      <td>Abr-Jun 2017</td>\n",
       "    </tr>\n",
       "    <tr>\n",
       "      <th>2017Q3</th>\n",
       "      <td>2017</td>\n",
       "      <td>3</td>\n",
       "      <td>15.106.275</td>\n",
       "      <td>6308373</td>\n",
       "      <td>21414647</td>\n",
       "      <td>Jul-Sept 2017</td>\n",
       "    </tr>\n",
       "    <tr>\n",
       "      <th>2017Q4</th>\n",
       "      <td>2017</td>\n",
       "      <td>4</td>\n",
       "      <td>14.164.552</td>\n",
       "      <td>5380710</td>\n",
       "      <td>19545262</td>\n",
       "      <td>Oct-Dic 2017</td>\n",
       "    </tr>\n",
       "    <tr>\n",
       "      <th>2018Q1</th>\n",
       "      <td>2018</td>\n",
       "      <td>1</td>\n",
       "      <td>13.851.254</td>\n",
       "      <td>5958717</td>\n",
       "      <td>19809971</td>\n",
       "      <td>Ene-Mar 2018</td>\n",
       "    </tr>\n",
       "    <tr>\n",
       "      <th>2018Q2</th>\n",
       "      <td>2018</td>\n",
       "      <td>2</td>\n",
       "      <td>14.388.755</td>\n",
       "      <td>6290155</td>\n",
       "      <td>20678910</td>\n",
       "      <td>Abr-Jun 2018</td>\n",
       "    </tr>\n",
       "  </tbody>\n",
       "</table>\n",
       "</div>"
      ],
      "text/plain": [
       "        Year  Trimestre MinutosPospagoSalientes  MinutosPrepagoSalientes  \\\n",
       "Fecha                                                                      \n",
       "2017Q2  2017          2              15.315.167                  6293563   \n",
       "2017Q3  2017          3              15.106.275                  6308373   \n",
       "2017Q4  2017          4              14.164.552                  5380710   \n",
       "2018Q1  2018          1              13.851.254                  5958717   \n",
       "2018Q2  2018          2              14.388.755                  6290155   \n",
       "\n",
       "        TotalMinutosSalientes        Periodo  \n",
       "Fecha                                         \n",
       "2017Q2               21608730   Abr-Jun 2017  \n",
       "2017Q3               21414647  Jul-Sept 2017  \n",
       "2017Q4               19545262   Oct-Dic 2017  \n",
       "2018Q1               19809971   Ene-Mar 2018  \n",
       "2018Q2               20678910   Abr-Jun 2018  "
      ]
     },
     "execution_count": 99,
     "metadata": {},
     "output_type": "execute_result"
    }
   ],
   "source": [
    "data['Fecha'] = data.apply (lambda row: set_Fecha (row),axis=1)\n",
    "data['Fecha'] = pd.to_datetime(data['Fecha'])\n",
    "data.set_index('Fecha', inplace=True)\n",
    "data.index=data.index.to_period(freq='Q')\n",
    "data.tail()"
   ]
  },
  {
   "cell_type": "code",
   "execution_count": 100,
   "metadata": {},
   "outputs": [
    {
     "data": {
      "image/png": "[encoded data removed]",
      "text/plain": [
       "<Figure size 576x360 with 1 Axes>"
      ]
     },
     "metadata": {},
     "output_type": "display_data"
    }
   ],
   "source": [
    "y=data['TotalMinutosSalientes']\n",
    "fig, ax= plt.subplots(figsize=(8,5))\n",
    "y.plot(color=red)\n",
    "ax.set_xlabel('')\n",
    "ax.set_ylabel('Total minutos salientes')\n",
    "ax.set_title('Total minutos salientes a través de los años')\n",
    "ax.set_xticks([], minor=True) \n",
    "sns.despine()\n",
    "plt.show()"
   ]
  },
  {
   "cell_type": "markdown",
   "metadata": {},
   "source": [
    "## Implementar dos modelos (como ser Random Walk (Naïve) y Exponential Smoothing)"
   ]
  },
  {
   "cell_type": "markdown",
   "metadata": {},
   "source": [
    "# Random walk"
   ]
  },
  {
   "cell_type": "code",
   "execution_count": 101,
   "metadata": {},
   "outputs": [
    {
     "data": {
      "text/plain": [
       "2018Q3    20678910\n",
       "2018Q4    20678910\n",
       "2019Q1    20678910\n",
       "2019Q2    20678910\n",
       "Freq: Q-DEC, dtype: int64"
      ]
     },
     "execution_count": 101,
     "metadata": {},
     "output_type": "execute_result"
    }
   ],
   "source": [
    "h = 4\n",
    "test=pd.period_range(start=y.index[-1]+1, periods=h, freq='Q')\n",
    "pred=pd.Series(np.repeat(y.iloc[-1], h), index=test) # the forecast repeats the last observed values h times\n",
    "pred"
   ]
  },
  {
   "cell_type": "code",
   "execution_count": 102,
   "metadata": {},
   "outputs": [
    {
     "data": {
      "text/plain": [
       "1464911.401"
      ]
     },
     "execution_count": 102,
     "metadata": {},
     "output_type": "execute_result"
    }
   ],
   "source": [
    "resid=y-y.shift(1) # the shift lags the series by one period\n",
    "sigma = resid.std()\n",
    "round(sigma,3)"
   ]
  },
  {
   "cell_type": "code",
   "execution_count": 103,
   "metadata": {},
   "outputs": [
    {
     "data": {
      "text/html": [
       "<div>\n",
       "<style scoped>\n",
       "    .dataframe tbody tr th:only-of-type {\n",
       "        vertical-align: middle;\n",
       "    }\n",
       "\n",
       "    .dataframe tbody tr th {\n",
       "        vertical-align: top;\n",
       "    }\n",
       "\n",
       "    .dataframe thead th {\n",
       "        text-align: right;\n",
       "    }\n",
       "</style>\n",
       "<table border=\"1\" class=\"dataframe\">\n",
       "  <thead>\n",
       "    <tr style=\"text-align: right;\">\n",
       "      <th></th>\n",
       "      <th>0</th>\n",
       "      <th>1</th>\n",
       "    </tr>\n",
       "  </thead>\n",
       "  <tbody>\n",
       "    <tr>\n",
       "      <th>2018Q3</th>\n",
       "      <td>1.780774e+07</td>\n",
       "      <td>2.355008e+07</td>\n",
       "    </tr>\n",
       "    <tr>\n",
       "      <th>2018Q4</th>\n",
       "      <td>1.661846e+07</td>\n",
       "      <td>2.473936e+07</td>\n",
       "    </tr>\n",
       "    <tr>\n",
       "      <th>2019Q1</th>\n",
       "      <td>1.570589e+07</td>\n",
       "      <td>2.565193e+07</td>\n",
       "    </tr>\n",
       "    <tr>\n",
       "      <th>2019Q2</th>\n",
       "      <td>1.493656e+07</td>\n",
       "      <td>2.642126e+07</td>\n",
       "    </tr>\n",
       "  </tbody>\n",
       "</table>\n",
       "</div>"
      ],
      "text/plain": [
       "                   0             1\n",
       "2018Q3  1.780774e+07  2.355008e+07\n",
       "2018Q4  1.661846e+07  2.473936e+07\n",
       "2019Q1  1.570589e+07  2.565193e+07\n",
       "2019Q2  1.493656e+07  2.642126e+07"
      ]
     },
     "execution_count": 103,
     "metadata": {},
     "output_type": "execute_result"
    }
   ],
   "source": [
    "intv = pd.concat([pred-stats.norm.ppf(0.975)*sigma*np.sqrt(np.arange(1,h+1)),\n",
    "                   pred+stats.norm.ppf(0.975)*sigma*np.sqrt(np.arange(1,h+1))], axis=1)\n",
    "intv.round(3)"
   ]
  },
  {
   "cell_type": "code",
   "execution_count": 104,
   "metadata": {},
   "outputs": [
    {
     "data": {
      "image/png": "[encoded data removed]",
      "text/plain": [
       "<Figure size 576x360 with 1 Axes>"
      ]
     },
     "metadata": {},
     "output_type": "display_data"
    }
   ],
   "source": [
    "from plotting import fanchart\n",
    "\n",
    "point_pred = (intv[0]+intv[1])/2\n",
    "\n",
    "fig, ax = fanchart(y['2010':],point_pred,intv,intv,intv)\n",
    "\n",
    "plt.show()"
   ]
  },
  {
   "cell_type": "markdown",
   "metadata": {},
   "source": [
    "# Simple exponential smoothing"
   ]
  },
  {
   "cell_type": "code",
   "execution_count": 105,
   "metadata": {},
   "outputs": [
    {
     "name": "stdout",
     "output_type": "stream",
     "text": [
      " Smoothing parameter: alpha  0.535\n",
      " In-sample fit:\n",
      " MSE               1843938379587.524\n",
      " AIC               625.344\n",
      " BIC               627.526\n"
     ]
    }
   ],
   "source": [
    "model_ses = sm.tsa.SimpleExpSmoothing(y).fit()\n",
    "fitted_ses = model_ses.fittedvalues\n",
    "# model_ses.summary() # summary isn't implemented in 0.9, looks it'll be avaible in 0.10\n",
    "alpha_ses = model_ses.model.params['smoothing_level']\n",
    "mse_ses = sm.tools.eval_measures.mse(y,fitted_ses)\n",
    "# loglik_ses = model_ses.model.loglike(model_ses.model.params) # NotImplementedError\n",
    "aic_ses = model_ses.aic\n",
    "bic_ses = model_ses.bic\n",
    "print(' Smoothing parameter: alpha  {0:.3f}'.format(alpha_ses))\n",
    "print(' In-sample fit:')\n",
    "print(' MSE               {0:.3f}'.format(mse_ses))\n",
    "print(' AIC               {0:.3f}'.format(aic_ses))\n",
    "print(' BIC               {0:.3f}'.format(bic_ses))"
   ]
  },
  {
   "cell_type": "code",
   "execution_count": 106,
   "metadata": {},
   "outputs": [
    {
     "name": "stdout",
     "output_type": "stream",
     "text": [
      " Log-likelihood    -341.889\n",
      " AIC               689.778\n",
      " BIC               693.051\n"
     ]
    }
   ],
   "source": [
    "N = len(y)\n",
    "loglik_ses=-(N/2)*(1+np.log(2*np.pi))-(N/2)*np.log(mse_ses)\n",
    "aic_ses=-2*loglik_ses+2*3\n",
    "bic_ses=-2*loglik_ses+np.log(N)*3\n",
    "print(' Log-likelihood    %.3f' % (loglik_ses))\n",
    "print(' AIC               {0:.3f}'.format(aic_ses))\n",
    "print(' BIC               {0:.3f}'.format(bic_ses))"
   ]
  },
  {
   "cell_type": "code",
   "execution_count": 107,
   "metadata": {},
   "outputs": [
    {
     "data": {
      "image/png": "[encoded data removed]",
      "text/plain": [
       "<Figure size 1080x720 with 1 Axes>"
      ]
     },
     "metadata": {},
     "output_type": "display_data"
    }
   ],
   "source": [
    "fig, ax= plt.subplots(figsize=(15,10))\n",
    "y.plot(color=red, label='Inflation')\n",
    "fitted_ses.plot(color='black', label='Simple exponential smoothing fit', alpha=0.8)\n",
    "ax.set_xlabel('')\n",
    "ax.set_ylabel('Total minutos salientes')\n",
    "ax.set_title('Total minutos salientes a través de los años')\n",
    "ax.set_xticks([], minor=True) \n",
    "plt.legend(loc='best')\n",
    "sns.despine()\n",
    "plt.show()"
   ]
  },
  {
   "cell_type": "markdown",
   "metadata": {},
   "source": [
    "# Forecast"
   ]
  },
  {
   "cell_type": "code",
   "execution_count": 108,
   "metadata": {},
   "outputs": [
    {
     "data": {
      "image/png": "[encoded data removed]",
      "text/plain": [
       "<Figure size 720x432 with 1 Axes>"
      ]
     },
     "metadata": {},
     "output_type": "display_data"
    }
   ],
   "source": [
    "h=12\n",
    "w=h*10\n",
    "data = y\n",
    "model = sm.tsa.SimpleExpSmoothing\n",
    "pred_index = y.index[-1] + np.array(range(1,h+1))\n",
    "pred_rolling = pd.Series(0,index=pred_index)\n",
    "pred_expanding = pd.Series(0,index=pred_index)\n",
    "orig_fit = None\n",
    "for i in range(0,h):\n",
    "    current = pd.concat([data, pred_expanding.head(i)])\n",
    "    expanding = model(current).fit()\n",
    "    if i==0:\n",
    "        orig_fit = expanding.fittedvalues\n",
    "    rolling = model(current.tail(w)).fit()\n",
    "    pred_expanding.update(expanding.forecast(1))\n",
    "    pred_rolling.update(rolling.forecast(1))\n",
    "ax = data[-w:].plot(color='red',figsize=(10,6))\n",
    "pd.concat([orig_fit[-w:],pred_expanding]).plot(ax=ax,color='blue');\n",
    "pd.concat([orig_fit[-w:],pred_rolling]).plot(ax=ax,color='green');"
   ]
  },
  {
   "cell_type": "code",
   "execution_count": null,
   "metadata": {},
   "outputs": [],
   "source": []
  }
 ],
 "metadata": {
  "kernelspec": {
   "display_name": "Python 3",
   "language": "python",
   "name": "python3"
  },
  "language_info": {
   "codemirror_mode": {
    "name": "ipython",
    "version": 3
   },
   "file_extension": ".py",
   "mimetype": "text/x-python",
   "name": "python",
   "nbconvert_exporter": "python",
   "pygments_lexer": "ipython3",
   "version": "3.6.4"
  }
 },
 "nbformat": 4,
 "nbformat_minor": 2
}
